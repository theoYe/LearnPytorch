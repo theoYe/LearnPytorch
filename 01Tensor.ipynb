{
  "nbformat": 4,
  "nbformat_minor": 0,
  "metadata": {
    "colab": {
      "name": "01Tensor.ipynb",
      "provenance": [],
      "collapsed_sections": [],
      "toc_visible": true,
      "authorship_tag": "ABX9TyMDPj7VcpzhEYLu/CkBJR0p",
      "include_colab_link": true
    },
    "kernelspec": {
      "name": "python3",
      "display_name": "Python 3"
    },
    "accelerator": "GPU"
  },
  "cells": [
    {
      "cell_type": "markdown",
      "metadata": {
        "id": "view-in-github",
        "colab_type": "text"
      },
      "source": [
        "<a href=\"https://colab.research.google.com/github/theoYe/LearnPytorch/blob/master/01Tensor.ipynb\" target=\"_parent\"><img src=\"https://colab.research.google.com/assets/colab-badge.svg\" alt=\"Open In Colab\"/></a>"
      ]
    },
    {
      "cell_type": "markdown",
      "metadata": {
        "id": "kg_eKDmnifO2",
        "colab_type": "text"
      },
      "source": [
        "## 0. Pytorch 安装及环境配置\n"
      ]
    },
    {
      "cell_type": "code",
      "metadata": {
        "colab_type": "code",
        "id": "NUhNKCAfr6Pe",
        "outputId": "1b88d6c8-306b-41e5-99fb-67644608c84c",
        "colab": {
          "base_uri": "https://localhost:8080/",
          "height": 67
        }
      },
      "source": [
        "import torch\n",
        "print(torch.cuda.is_available())      \n",
        "print(torch.rand(2,2))  "
      ],
      "execution_count": 1,
      "outputs": [
        {
          "output_type": "stream",
          "text": [
            "True\n",
            "tensor([[0.6276, 0.8159],\n",
            "        [0.7951, 0.0485]])\n"
          ],
          "name": "stdout"
        }
      ]
    },
    {
      "cell_type": "markdown",
      "metadata": {
        "id": "QE5wb0NluAXo",
        "colab_type": "text"
      },
      "source": [
        ">如果你返回false, 请打开Runtime -> change runtime type , 把第二行换为GPU"
      ]
    },
    {
      "cell_type": "markdown",
      "metadata": {
        "id": "ER2DLmN8RJvK",
        "colab_type": "text"
      },
      "source": [
        "# 1. Tensors\n",
        "*Tensor* 就是存储数据的容器, 你可以把他当成多维数组, Tensor有以下要点\n",
        "1. 每个Tensor都有对应的秩(rank), 如: 一个标量的秩的是0, 向量的秩是1 , 矩阵的秩是2\n",
        " \n",
        "\n",
        "\n"
      ]
    },
    {
      "cell_type": "markdown",
      "metadata": {
        "id": "Z0SM32fDAol4",
        "colab_type": "text"
      },
      "source": [
        "## 1.1 创建Tensor"
      ]
    },
    {
      "cell_type": "code",
      "metadata": {
        "id": "N6P3iK97h8Ef",
        "colab_type": "code",
        "outputId": "8013e895-8ebc-4e02-bb79-437f78ba1cdd",
        "colab": {
          "base_uri": "https://localhost:8080/",
          "height": 67
        }
      },
      "source": [
        "x = torch.tensor([[0,0,1],[1,1,1],[0,0,0]])\n",
        "x"
      ],
      "execution_count": 0,
      "outputs": [
        {
          "output_type": "execute_result",
          "data": {
            "text/plain": [
              "tensor([[0, 0, 1],\n",
              "        [1, 1, 1],\n",
              "        [0, 0, 0]])"
            ]
          },
          "metadata": {
            "tags": []
          },
          "execution_count": 7
        }
      ]
    },
    {
      "cell_type": "markdown",
      "metadata": {
        "id": "3ilqwENJjQ8p",
        "colab_type": "text"
      },
      "source": [
        "我们可以利用torch中提供的函数来创建Tensor , 有以下常用的函数\n",
        "- zeros()\n",
        "- rand()\n",
        "- ones()\n"
      ]
    },
    {
      "cell_type": "code",
      "metadata": {
        "id": "0kylW3IYjjJh",
        "colab_type": "code",
        "colab": {}
      },
      "source": [
        "a = torch.zeros(2,1)\n",
        "b = torch.rand(2,2)\n",
        "c = torch.ones(1,2)"
      ],
      "execution_count": 0,
      "outputs": []
    },
    {
      "cell_type": "markdown",
      "metadata": {
        "id": "OYz38jg2kAdC",
        "colab_type": "text"
      },
      "source": [
        "## 1.2 Tensor的存放位置"
      ]
    },
    {
      "cell_type": "markdown",
      "metadata": {
        "id": "k4ZZIZ7sj6za",
        "colab_type": "text"
      },
      "source": [
        "tensor默认存在于CPU中"
      ]
    },
    {
      "cell_type": "code",
      "metadata": {
        "id": "ubF_KQUTkLIB",
        "colab_type": "code",
        "outputId": "a1adf405-d37e-4168-ab8c-e4c078a481da",
        "colab": {
          "base_uri": "https://localhost:8080/",
          "height": 34
        }
      },
      "source": [
        "cpu_tensor = torch.rand(2)\n",
        "cpu_tensor.device"
      ],
      "execution_count": 0,
      "outputs": [
        {
          "output_type": "execute_result",
          "data": {
            "text/plain": [
              "device(type='cpu')"
            ]
          },
          "metadata": {
            "tags": []
          },
          "execution_count": 16
        }
      ]
    },
    {
      "cell_type": "markdown",
      "metadata": {
        "id": "Yb6foxY_kysa",
        "colab_type": "text"
      },
      "source": [
        "Tensors 可以存在于CPU或者GPU中,而且可以使用 `to()`函数来在两个设备之间进行复制"
      ]
    },
    {
      "cell_type": "code",
      "metadata": {
        "id": "S3QughMHkS_k",
        "colab_type": "code",
        "outputId": "af0e6a17-e416-469f-a9e7-08c290a8bc1a",
        "colab": {
          "base_uri": "https://localhost:8080/",
          "height": 34
        }
      },
      "source": [
        "gpu_tensor = cpu_tensor.to(\"cuda\")\n",
        "gpu_tensor.device"
      ],
      "execution_count": 0,
      "outputs": [
        {
          "output_type": "execute_result",
          "data": {
            "text/plain": [
              "device(type='cuda', index=0)"
            ]
          },
          "metadata": {
            "tags": []
          },
          "execution_count": 18
        }
      ]
    },
    {
      "cell_type": "markdown",
      "metadata": {
        "id": "UIyCZ_bGkqel",
        "colab_type": "text"
      },
      "source": [
        "## 1.3 Tensor 常用操作\n",
        "我们有时需要对Tensor做出一些操作,例如最大值等, Tensor常用的操作如下\n",
        ">注意, 执行这些操作时, 一般我们仍然会得到一个tensor , 例如max()获取最大值, 我们可能会得到一个一维的tensor值, 如果要转化成标准的python数据类型,使用`item()`来进行转哈\n",
        "- max(): 获取tensor中最大值\n",
        "- item(): 将数据转化为标准的python数据类型\n",
        "- argmax()"
      ]
    },
    {
      "cell_type": "code",
      "metadata": {
        "id": "EPsTXo_UkonL",
        "colab_type": "code",
        "outputId": "e2da756b-34be-461e-d4c8-4309bc8165ea",
        "colab": {
          "base_uri": "https://localhost:8080/",
          "height": 34
        }
      },
      "source": [
        "torch.rand(2,2).max()"
      ],
      "execution_count": 0,
      "outputs": [
        {
          "output_type": "execute_result",
          "data": {
            "text/plain": [
              "tensor(0.9664)"
            ]
          },
          "metadata": {
            "tags": []
          },
          "execution_count": 3
        }
      ]
    },
    {
      "cell_type": "code",
      "metadata": {
        "id": "V8_I3L7DkPjA",
        "colab_type": "code",
        "outputId": "0e4a8a5b-0bd0-4c5f-e72b-e8ee804379d1",
        "colab": {
          "base_uri": "https://localhost:8080/",
          "height": 34
        }
      },
      "source": [
        "torch.rand(2,2).max().item()"
      ],
      "execution_count": 0,
      "outputs": [
        {
          "output_type": "execute_result",
          "data": {
            "text/plain": [
              "0.7825084328651428"
            ]
          },
          "metadata": {
            "tags": []
          },
          "execution_count": 4
        }
      ]
    },
    {
      "cell_type": "markdown",
      "metadata": {
        "id": "LyCPhCXxjz7f",
        "colab_type": "text"
      },
      "source": [
        "有时, 我们需要将tensor的类型改变, 例如下面将`LongTensor`转化为`FloatTensor`"
      ]
    },
    {
      "cell_type": "code",
      "metadata": {
        "id": "IauuM1UHNrn2",
        "colab_type": "code",
        "outputId": "5e325a91-f8fc-49ff-f6e3-0fa2c372c9c6",
        "colab": {
          "base_uri": "https://localhost:8080/",
          "height": 34
        }
      },
      "source": [
        "long_tensor = torch.tensor([[0,0,1],[1,1,1],[0,0,0]])\n",
        "long_tensor.type()"
      ],
      "execution_count": 0,
      "outputs": [
        {
          "output_type": "execute_result",
          "data": {
            "text/plain": [
              "'torch.LongTensor'"
            ]
          },
          "metadata": {
            "tags": []
          },
          "execution_count": 6
        }
      ]
    },
    {
      "cell_type": "code",
      "metadata": {
        "id": "ZqV12mDpN0Ub",
        "colab_type": "code",
        "outputId": "63fa4723-e814-40a9-d753-8cb4ed28bfdf",
        "colab": {
          "base_uri": "https://localhost:8080/",
          "height": 34
        }
      },
      "source": [
        "float_tensor = torch.tensor([[0,0,1],[1,1,1],[0,0,0]])\n",
        "float_tensor.type()\n"
      ],
      "execution_count": 0,
      "outputs": [
        {
          "output_type": "execute_result",
          "data": {
            "text/plain": [
              "'torch.LongTensor'"
            ]
          },
          "metadata": {
            "tags": []
          },
          "execution_count": 7
        }
      ]
    },
    {
      "cell_type": "markdown",
      "metadata": {
        "id": "IKb64Kl0N6CF",
        "colab_type": "text"
      },
      "source": [
        "### 1.3.2 节省空间\n",
        "绝大多数操作tensor的函数在返回tensor的时候都会建立一个新的tensor来存储数据. 如果你想节省内存, 尝试使用`in place`函数, 如果存在的话, 它的名字是原函数加上一个`_`(下划线), 例如下面的代码"
      ]
    },
    {
      "cell_type": "code",
      "metadata": {
        "id": "1poa5_EFjwgJ",
        "colab_type": "code",
        "outputId": "fbbb5be6-8c1e-4071-9cba-be0d9910d962",
        "colab": {
          "base_uri": "https://localhost:8080/",
          "height": 50
        }
      },
      "source": [
        "random_tensor = torch.rand(2,2)\n",
        "random_tensor.log2()\n"
      ],
      "execution_count": 2,
      "outputs": [
        {
          "output_type": "execute_result",
          "data": {
            "text/plain": [
              "tensor([[-0.1867, -2.2412],\n",
              "        [-0.4459, -2.7749]])"
            ]
          },
          "metadata": {
            "tags": []
          },
          "execution_count": 2
        }
      ]
    },
    {
      "cell_type": "code",
      "metadata": {
        "id": "-dxUX52VOp80",
        "colab_type": "code",
        "outputId": "749e21d6-3bad-49c2-d8c7-4157a18204fd",
        "colab": {
          "base_uri": "https://localhost:8080/",
          "height": 50
        }
      },
      "source": [
        "random_tensor.log2_()"
      ],
      "execution_count": 3,
      "outputs": [
        {
          "output_type": "execute_result",
          "data": {
            "text/plain": [
              "tensor([[-0.1867, -2.2412],\n",
              "        [-0.4459, -2.7749]])"
            ]
          },
          "metadata": {
            "tags": []
          },
          "execution_count": 3
        }
      ]
    },
    {
      "cell_type": "markdown",
      "metadata": {
        "id": "W7wIX4MI-zuM",
        "colab_type": "text"
      },
      "source": [
        "**也就是说, 带`_`时, 会直接改变原tensor的值**"
      ]
    },
    {
      "cell_type": "code",
      "metadata": {
        "id": "I8soUteL-TbU",
        "colab_type": "code",
        "colab": {
          "base_uri": "https://localhost:8080/",
          "height": 118
        },
        "outputId": "097407b6-b792-4b56-bbaf-1dfb556c9ec9"
      },
      "source": [
        "random_tensor = torch.rand(2,2)\n",
        "print(random_tensor)\n",
        "print(random_tensor.log2_())\n",
        "print(random_tensor)"
      ],
      "execution_count": 16,
      "outputs": [
        {
          "output_type": "stream",
          "text": [
            "tensor([[0.0695, 0.5779],\n",
            "        [0.1967, 0.4233]])\n",
            "tensor([[-3.8479, -0.7912],\n",
            "        [-2.3461, -1.2404]])\n",
            "tensor([[-3.8479, -0.7912],\n",
            "        [-2.3461, -1.2404]])\n"
          ],
          "name": "stdout"
        }
      ]
    },
    {
      "cell_type": "code",
      "metadata": {
        "id": "4oclq5L7-jpu",
        "colab_type": "code",
        "colab": {
          "base_uri": "https://localhost:8080/",
          "height": 118
        },
        "outputId": "987b7f0c-ac89-43d3-8d4c-6dcda8c09681"
      },
      "source": [
        "random_tensor = torch.rand(2,2)\n",
        "print(random_tensor)\n",
        "print(random_tensor.log2())\n",
        "print(random_tensor)"
      ],
      "execution_count": 18,
      "outputs": [
        {
          "output_type": "stream",
          "text": [
            "tensor([[0.9058, 0.3694],\n",
            "        [0.5933, 0.4879]])\n",
            "tensor([[-0.1428, -1.4366],\n",
            "        [-0.7531, -1.0355]])\n",
            "tensor([[0.9058, 0.3694],\n",
            "        [0.5933, 0.4879]])\n"
          ],
          "name": "stdout"
        }
      ]
    },
    {
      "cell_type": "markdown",
      "metadata": {
        "id": "En7lCUieOsKF",
        "colab_type": "text"
      },
      "source": [
        "### 1.3.3 重塑tensor\n",
        "一个常用的操作就是重塑tensor, 例如当你训练神经网络时, 你的神经网络层需要有些不同的输入时. 举个例子, MNIST的手写识别数据集是一个28x28的图片集, 但是它的打包方式却是 784长度的数组, 为了使用这个网络, 我们要把它变成一个1x28x28的tensor,(1代表channel的个数,通常包含3个(RGB), 因为MNIST是灰度图, 所以只有一个), 我们可以使用下面两个函数\n",
        "- `view()`\n",
        "- `reshape()`\n",
        "\n",
        ">view 与reshape 有以下两个区别\n",
        ">1. view会使用与原数据同样的内存空间, 也就是说改变view (或者改变原tensor), 会使得原tensor(或者view)改变, 而reshape在某些情况下会返回原tensor的复制版本\n",
        ">2. 当tensor的内存数据不是连续存储时(`non-contiguous`), 会出错\n",
        "\n",
        "\n"
      ]
    },
    {
      "cell_type": "code",
      "metadata": {
        "id": "o8Oh6AUQR_4l",
        "colab_type": "code",
        "outputId": "df8fb826-ac88-428d-8009-65afa789673b",
        "colab": {
          "base_uri": "https://localhost:8080/",
          "height": 34
        }
      },
      "source": [
        "flat_tensor = torch.rand(784)\n",
        "viewed_tensor = flat_tensor.view(1,28,28)\n",
        "viewed_tensor.shape\n"
      ],
      "execution_count": 0,
      "outputs": [
        {
          "output_type": "execute_result",
          "data": {
            "text/plain": [
              "torch.Size([1, 28, 28])"
            ]
          },
          "metadata": {
            "tags": []
          },
          "execution_count": 11
        }
      ]
    },
    {
      "cell_type": "code",
      "metadata": {
        "id": "A06E6CacSO_Y",
        "colab_type": "code",
        "outputId": "c0c9ca8e-c9c8-4894-d328-c775bed7c703",
        "colab": {
          "base_uri": "https://localhost:8080/",
          "height": 34
        }
      },
      "source": [
        "reshaped_tensor= flat_tensor.reshape(1,28,28)\n",
        "reshaped_tensor.shape\n"
      ],
      "execution_count": 0,
      "outputs": [
        {
          "output_type": "execute_result",
          "data": {
            "text/plain": [
              "torch.Size([1, 28, 28])"
            ]
          },
          "metadata": {
            "tags": []
          },
          "execution_count": 12
        }
      ]
    },
    {
      "cell_type": "code",
      "metadata": {
        "id": "0Gkrm7J9SXjy",
        "colab_type": "code",
        "outputId": "bee1fcc3-19c6-4ed6-b321-f693b671a6d5",
        "colab": {
          "base_uri": "https://localhost:8080/",
          "height": 50
        }
      },
      "source": [
        "t = torch.tensor([[1,1,1],[2,2,2]])\n",
        "tvs = t.view(3,2)\n",
        "tvs[0][0] = 2\n",
        "t\n"
      ],
      "execution_count": 0,
      "outputs": [
        {
          "output_type": "execute_result",
          "data": {
            "text/plain": [
              "tensor([[2, 1, 1],\n",
              "        [2, 2, 2]])"
            ]
          },
          "metadata": {
            "tags": []
          },
          "execution_count": 16
        }
      ]
    },
    {
      "cell_type": "code",
      "metadata": {
        "id": "fSXtr5mNVfMl",
        "colab_type": "code",
        "outputId": "6e32e9af-ea70-4bac-96d7-b93fb932027a",
        "colab": {
          "base_uri": "https://localhost:8080/",
          "height": 50
        }
      },
      "source": [
        "t = torch.tensor([[1,1,1],[2,2,2]])\n",
        "tvs = t.reshape(3,2)\n",
        "tvs[0][0] = 2\n",
        "t\n"
      ],
      "execution_count": 0,
      "outputs": [
        {
          "output_type": "execute_result",
          "data": {
            "text/plain": [
              "tensor([[2, 1, 1],\n",
              "        [2, 2, 2]])"
            ]
          },
          "metadata": {
            "tags": []
          },
          "execution_count": 17
        }
      ]
    },
    {
      "cell_type": "markdown",
      "metadata": {
        "id": "U4IO6aVviGPm",
        "colab_type": "text"
      },
      "source": [
        "我们可以使用[]中括号索引的方式来改变tensor中的值"
      ]
    },
    {
      "cell_type": "code",
      "metadata": {
        "id": "Bk39GY-hjG1g",
        "colab_type": "code",
        "outputId": "ed5be730-9c28-4c8f-9451-78c12395cf3b",
        "colab": {
          "base_uri": "https://localhost:8080/",
          "height": 67
        }
      },
      "source": [
        "x[0][0] = 5\n",
        "x\n"
      ],
      "execution_count": 0,
      "outputs": [
        {
          "output_type": "execute_result",
          "data": {
            "text/plain": [
              "tensor([[5, 0, 1],\n",
              "        [1, 1, 1],\n",
              "        [0, 0, 0]])"
            ]
          },
          "metadata": {
            "tags": []
          },
          "execution_count": 9
        }
      ]
    },
    {
      "cell_type": "markdown",
      "metadata": {
        "id": "gC_JVxJ4_OUT",
        "colab_type": "text"
      },
      "source": [
        "### 1.3.4 改变dimension的顺序\n",
        "我们有时想要改变维度的顺序, 例如我们经常这么存储一个图片**[height, width,channel]**, 但是PyTorch是这么来处理的**[channel , height,width]**\n",
        "可是就可以使用`permute()`函数来处理顺序\n",
        ">permute 接收一个元组, 函数参数为维度的索引值\n"
      ]
    },
    {
      "cell_type": "code",
      "metadata": {
        "id": "d0vXV8_Z_7Re",
        "colab_type": "code",
        "colab": {
          "base_uri": "https://localhost:8080/",
          "height": 34
        },
        "outputId": "3efaeeec-4a63-4678-c92d-8d7cd26bead1"
      },
      "source": [
        "hwc_tensor = torch.rand(640, 480, 3)\n",
        "chw_tensor = hwc_tensor.permute(2,0,1)\n",
        "chw_tensor.shape"
      ],
      "execution_count": 22,
      "outputs": [
        {
          "output_type": "execute_result",
          "data": {
            "text/plain": [
              "torch.Size([3, 640, 480])"
            ]
          },
          "metadata": {
            "tags": []
          },
          "execution_count": 22
        }
      ]
    },
    {
      "cell_type": "markdown",
      "metadata": {
        "id": "umKcsC9jA_Hm",
        "colab_type": "text"
      },
      "source": [
        "## 1.4 Tensor Broadcasting\n",
        "从Numpy中继承而来, `broadcasting`允许你在一个tensor和另一个更小的tensor之间进行操作,在下面两种情况下,你可以在两个tensor之间进行广播,从最后一个维度往后传播:\n",
        "- 两个tensor的维度相同\n",
        "- 某一个tensor的维度是1\n",
        "\n",
        "例如我们不能把一个大小为[2,2]的tensor 和[3,3]的tensor相加, 我们会得到如下错误\n",
        "```python\n",
        "The size of tensor a (2) must match the size of\n",
        "tensor b (3) at non-singleton dimension 1\n",
        "```\n",
        "\n",
        "但是我们可以将一个 [1,3]的tensor添加到[3,3]的tensor中"
      ]
    },
    {
      "cell_type": "markdown",
      "metadata": {
        "id": "Pfi8SgxmjKn3",
        "colab_type": "text"
      },
      "source": [
        "### 参考资料\n",
        "Contigious vs non-contigious tensor:https://discuss.pytorch.org/t/contigious-vs-non-contigious-tensor/30107\n"
      ]
    },
    {
      "cell_type": "code",
      "metadata": {
        "id": "MOoGbCc-A-uh",
        "colab_type": "code",
        "colab": {}
      },
      "source": [
        ""
      ],
      "execution_count": 0,
      "outputs": []
    },
    {
      "cell_type": "code",
      "metadata": {
        "id": "5JDYQbNl8q78",
        "colab_type": "code",
        "colab": {}
      },
      "source": [
        ""
      ],
      "execution_count": 0,
      "outputs": []
    },
    {
      "cell_type": "code",
      "metadata": {
        "id": "v63McnJ_8rId",
        "colab_type": "code",
        "colab": {}
      },
      "source": [
        ""
      ],
      "execution_count": 0,
      "outputs": []
    }
  ]
}